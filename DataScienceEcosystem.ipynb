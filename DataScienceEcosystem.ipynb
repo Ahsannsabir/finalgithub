{
 "cells": [
  {
   "cell_type": "markdown",
   "id": "7e998189",
   "metadata": {},
   "source": [
    "# Data Science Tools and Ecosystem"
   ]
  },
  {
   "cell_type": "markdown",
   "id": "d8cefc49",
   "metadata": {},
   "source": [
    "### In this notebook, Data Science Tools and Ecosystem are summarized"
   ]
  },
  {
   "cell_type": "markdown",
   "id": "2798ff7a",
   "metadata": {},
   "source": [
    "**Objectives**\n",
    "- List popular languages for Data Science\n",
    "- Effectively use Jupyter Notebook\n",
    "- Understand R language"
   ]
  },
  {
   "cell_type": "markdown",
   "id": "255ff3ab",
   "metadata": {},
   "source": [
    "## Author\n",
    "Ahsan Sabir"
   ]
  },
  {
   "cell_type": "markdown",
   "id": "ce0dfcba",
   "metadata": {},
   "source": [
    "### Some of the popular languages that Data Scientists use are:\n",
    "1. Python\n",
    "2. Julia\n",
    "3. R"
   ]
  },
  {
   "cell_type": "markdown",
   "id": "22fc6b5e",
   "metadata": {},
   "source": [
    "### Some of the commonly used libraries used by Data Scientists include:\n",
    "1. Pandas\n",
    "2. Numpy\n",
    "3. Seaborn\n"
   ]
  },
  {
   "cell_type": "markdown",
   "id": "6d08a8d5",
   "metadata": {},
   "source": [
    "|Data science Tools|\n",
    "-----------------------------\n",
    "|Jupyter Notebook|\n",
    "|GitHub|\n",
    "|R Studio|\n"
   ]
  },
  {
   "cell_type": "markdown",
   "id": "b2a1acdf",
   "metadata": {},
   "source": [
    "### Below are a few examples of evaluating arithmetic expressions in Python"
   ]
  },
  {
   "cell_type": "code",
   "execution_count": 3,
   "id": "771bd8fc",
   "metadata": {},
   "outputs": [
    {
     "name": "stdout",
     "output_type": "stream",
     "text": [
      "17\n"
     ]
    }
   ],
   "source": [
    "print((3*4)+5)"
   ]
  },
  {
   "cell_type": "code",
   "execution_count": 4,
   "id": "93c84921",
   "metadata": {},
   "outputs": [
    {
     "name": "stdout",
     "output_type": "stream",
     "text": [
      "3.3333333333333335\n"
     ]
    }
   ],
   "source": [
    "print(200/60)"
   ]
  },
  {
   "cell_type": "code",
   "execution_count": null,
   "id": "c881777b",
   "metadata": {},
   "outputs": [],
   "source": []
  }
 ],
 "metadata": {
  "kernelspec": {
   "display_name": "Python 3 (ipykernel)",
   "language": "python",
   "name": "python3"
  },
  "language_info": {
   "codemirror_mode": {
    "name": "ipython",
    "version": 3
   },
   "file_extension": ".py",
   "mimetype": "text/x-python",
   "name": "python",
   "nbconvert_exporter": "python",
   "pygments_lexer": "ipython3",
   "version": "3.10.9"
  }
 },
 "nbformat": 4,
 "nbformat_minor": 5
}
